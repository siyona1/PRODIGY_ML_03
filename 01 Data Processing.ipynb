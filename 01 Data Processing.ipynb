{
 "cells": [
  {
   "cell_type": "code",
   "execution_count": 1,
   "id": "af30ec73",
   "metadata": {},
   "outputs": [],
   "source": [
    "import os\n",
    "import numpy as np\n",
    "import cv2\n",
    "import matplotlib.pyplot as plt\n",
    "import pickle"
   ]
  },
  {
   "cell_type": "code",
   "execution_count": 2,
   "id": "31640318",
   "metadata": {},
   "outputs": [],
   "source": [
    "dir ='PetImages'"
   ]
  },
  {
   "cell_type": "code",
   "execution_count": 3,
   "id": "cc681465",
   "metadata": {},
   "outputs": [],
   "source": [
    "categories = ['Cat', 'Dog']\n",
    "\n",
    "data = []"
   ]
  },
  {
   "cell_type": "code",
   "execution_count": 4,
   "id": "f92c17b3",
   "metadata": {},
   "outputs": [],
   "source": [
    "for category in categories:\n",
    "    path = os.path.join(dir, category)\n",
    "    label= categories.index(category)\n",
    "\n",
    "    for img in os.listdir(path):\n",
    "        imgpath = os.path.join(path,img)\n",
    "        pet_img = cv2.imread(imgpath,0)\n",
    "        try:\n",
    "            pet_img = cv2.resize(pet_img,(50,50))\n",
    "            image = np.array(pet_img).flatten()\n",
    "\n",
    "            data.append([image,label])\n",
    "        except Exception as e:\n",
    "            pass"
   ]
  },
  {
   "cell_type": "code",
   "execution_count": 5,
   "id": "f7c50a86",
   "metadata": {},
   "outputs": [],
   "source": [
    "pick_in = open('data.pickle','wb')\n",
    "pickle.dump(data,pick_in)\n",
    "pick_in.close()"
   ]
  }
 ],
 "metadata": {
  "kernelspec": {
   "display_name": "Python 3 (ipykernel)",
   "language": "python",
   "name": "python3"
  },
  "language_info": {
   "codemirror_mode": {
    "name": "ipython",
    "version": 3
   },
   "file_extension": ".py",
   "mimetype": "text/x-python",
   "name": "python",
   "nbconvert_exporter": "python",
   "pygments_lexer": "ipython3",
   "version": "3.9.13"
  }
 },
 "nbformat": 4,
 "nbformat_minor": 5
}
